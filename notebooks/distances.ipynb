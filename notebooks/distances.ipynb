{
 "cells": [
  {
   "cell_type": "code",
   "execution_count": null,
   "metadata": {},
   "outputs": [],
   "source": [
    "# The goal of this script is to compare the three cosmological distances:\n",
    "# luminosity distance, angular diameter distance, comoving distance,\n",
    "# to show how to extract background quantities from a CLASS run\n",
    "# It creates a figure nearly identical to Figure 2.3 of Dodelsons's book 'Modern cosmology', first edition."
   ]
  },
  {
   "cell_type": "code",
   "execution_count": null,
   "metadata": {},
   "outputs": [],
   "source": [
    "# import necessary modules\n",
    "# uncomment to get plots displayed in notebook\n",
    "%matplotlib inline\n",
    "import matplotlib.pyplot as plt\n",
    "import numpy as np\n",
    "from classy import Class"
   ]
  },
  {
   "cell_type": "code",
   "execution_count": null,
   "metadata": {},
   "outputs": [],
   "source": [
    "# Create an instance of CLASS for the LambdaCDM model\n",
    "LCDM = Class()\n",
    "# Keep the default LCDM parameters but overwrite Omega_cdm, Omega_b; their sum is 0.3 such that Omega_Lambda=0.7\n",
    "LCDM.set({'Omega_cdm':0.25,'Omega_b':0.05})"
   ]
  },
  {
   "cell_type": "code",
   "execution_count": null,
   "metadata": {},
   "outputs": [],
   "source": [
    "# Create an instance of CLASS for an Einstein-de Sitter model with the same parameters excepted\n",
    "# Omega_cdm, Omega_b, now set such that their sum is 1, and thus Omega_Lambda=0\n",
    "CDM = Class()\n",
    "CDM.set({'Omega_cdm':0.95,'Omega_b':0.05})\n",
    "\n",
    "# Just to cross-check that Omega_Lambda is negligible \n",
    "# (but not exactly zero because we neglected radiation when we did our settings for Omega_cdm, Omega_b)\n",
    "derived = CDM.get_current_derived_parameters(['Omega0_lambda'])\n",
    "print (derived)\n",
    "print (\"Omega_Lambda =\",derived['Omega0_lambda'])"
   ]
  },
  {
   "cell_type": "code",
   "execution_count": null,
   "metadata": {},
   "outputs": [],
   "source": [
    "# Get background quantities and check the list of keys in the output\n",
    "baLCDM = LCDM.get_background()\n",
    "baCDM = CDM.get_background()\n",
    "baCDM.keys()"
   ]
  },
  {
   "cell_type": "code",
   "execution_count": null,
   "metadata": {},
   "outputs": [],
   "source": [
    "# Get H_0 in order to plot distances in this unit\n",
    "fLCDM = LCDM.Hubble(0)\n",
    "fCDM = CDM.Hubble(0)"
   ]
  },
  {
   "cell_type": "code",
   "execution_count": null,
   "metadata": {},
   "outputs": [],
   "source": [
    "# array of keys corresponding to the luminosity distance, comoving distance, and angular diameter distance\n",
    "namelist = ['lum. dist.','comov. dist.','ang.diam.dist.']\n",
    "colours = ['b','g','r']\n",
    "\n",
    "# plot the three distances in the LambdaCDM model\n",
    "for name in namelist:\n",
    "    idx = namelist.index(name)\n",
    "    plt.loglog(baLCDM['z'],fLCDM*baLCDM[name],colours[idx]+'-')\n",
    "\n",
    "\n",
    "# plot the three distances in the Einstein-De Sitter model\n",
    "for name in namelist:\n",
    "    idx = namelist.index(name)\n",
    "    plt.loglog(baCDM['z'],fCDM*baCDM[name],colours[idx]+'--')\n",
    "\n",
    "plt.legend(namelist,loc='upper left')\n",
    "plt.xlim([0.07, 10])\n",
    "plt.ylim([0.08, 20])\n",
    "\n",
    "plt.xlabel(r\"$z$\")\n",
    "plt.ylabel(r\"$\\mathrm{Distance}\\times H_0$\")\n",
    "plt.tight_layout()\n",
    "plt.savefig('distances.pdf')"
   ]
  }
 ],
 "metadata": {
  "kernelspec": {
   "display_name": "Python 3 (ipykernel)",
   "language": "python",
   "name": "python3"
  },
  "language_info": {
   "codemirror_mode": {
    "name": "ipython",
    "version": 3
   },
   "file_extension": ".py",
   "mimetype": "text/x-python",
   "name": "python",
   "nbconvert_exporter": "python",
   "pygments_lexer": "ipython3",
   "version": "3.11.7"
  }
 },
 "nbformat": 4,
 "nbformat_minor": 4
}
