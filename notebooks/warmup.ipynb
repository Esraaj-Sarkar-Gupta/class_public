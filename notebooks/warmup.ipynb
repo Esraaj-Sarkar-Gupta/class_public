{
 "cells": [
  {
   "cell_type": "code",
   "execution_count": null,
   "metadata": {},
   "outputs": [],
   "source": [
    "# This basic script shows how to use CLASS to plot the CMB spectrum\n",
    "# of temperature, polarisation and lensing potential, as well as the matter power spectrum"
   ]
  },
  {
   "cell_type": "code",
   "execution_count": null,
   "metadata": {},
   "outputs": [],
   "source": [
    "# import classy module\n",
    "from classy import Class"
   ]
  },
  {
   "cell_type": "code",
   "execution_count": null,
   "metadata": {},
   "outputs": [],
   "source": [
    "# create an instance of CLASS\n",
    "LambdaCDM = Class()\n",
    "\n",
    "####################################################\n",
    "#\n",
    "# Cosmological parameters and other CLASS parameters\n",
    "#\n",
    "####################################################\n",
    "input = {# LambdaCDM parameters (Planck 18 + lensing + BAO bestfit)\n",
    "        'omega_b':2.255065e-02,\n",
    "        'omega_cdm':1.193524e-01,\n",
    "        'H0':6.776953e+01,\n",
    "        'A_s':2.123257e-09,\n",
    "        'n_s':9.686025e-01,\n",
    "        'z_reio':8.227371e+00,\n",
    "        # other fixed parameters\n",
    "        'N_ur':2.0328,\n",
    "        'N_ncdm':1,\n",
    "        'm_ncdm':0.06,\n",
    "        'T_ncdm':0.71611,\n",
    "        # settings for the output quantites\n",
    "        'output':'mPk, tCl, pCl, lCl',\n",
    "        'lensing':'yes',\n",
    "        'P_k_max_h/Mpc':1.0,\n",
    "        'non_linear':'halofit',\n",
    "        }\n",
    "LambdaCDM.set(input)\n",
    "\n",
    "# Note that you could get all the same settings in just one line with the pre-set command\n",
    "# LambdaCDM.set_baseline('p18lb')\n",
    "# Here 'p18lb' is a short-cut for Planck18 + lensing + BAO bestfit\n",
    "# other options are 'p18l' and 'p18'\n",
    "# These pre-settings are defined in the classy function .set_baseline()\n",
    "\n",
    "# In older versions of classy one needed to execute CLASS with .compute()\n",
    "# This is no longer necessary, the code execution happens directly when calling classy functions"
   ]
  },
  {
   "cell_type": "code",
   "execution_count": null,
   "metadata": {},
   "outputs": [],
   "source": [
    "# get lesned C_l spectra\n",
    "cls = LambdaCDM.lensed_cl(2500)\n",
    "# To check the format of cls\n",
    "cls.keys()"
   ]
  },
  {
   "cell_type": "code",
   "execution_count": null,
   "metadata": {},
   "outputs": [],
   "source": [
    "# get multipoles l\n",
    "ll = cls['ell'][2:]\n",
    "# get CMB temperature spectrum C_l^TT\n",
    "clTT = cls['tt'][2:]\n",
    "# get CMB polarisation spectrum C_l^EE\n",
    "clEE = cls['ee'][2:]"
   ]
  },
  {
   "cell_type": "code",
   "execution_count": null,
   "metadata": {},
   "outputs": [],
   "source": [
    "# uncomment to get plots displayed in notebook\n",
    "%matplotlib inline\n",
    "import matplotlib.pyplot as plt\n",
    "import numpy as np"
   ]
  },
  {
   "cell_type": "code",
   "execution_count": null,
   "metadata": {},
   "outputs": [],
   "source": [
    "# plot C_l^TT\n",
    "plt.figure(1)\n",
    "plt.xscale('log');plt.yscale('linear');plt.xlim(2,2500)\n",
    "plt.xlabel(r'$\\ell$')\n",
    "plt.ylabel(r'$[\\ell(\\ell+1)/2\\pi]  C_\\ell^\\mathrm{TT}$')\n",
    "plt.plot(ll,clTT*ll*(ll+1)/(2.*np.pi),'r-')\n",
    "plt.savefig('warmup_cltt.pdf')"
   ]
  },
  {
   "cell_type": "code",
   "execution_count": null,
   "metadata": {},
   "outputs": [],
   "source": [
    "# plot C_l^EE\n",
    "plt.figure(1)\n",
    "plt.xscale('log');plt.yscale('log');plt.xlim(2,2500)\n",
    "plt.xlabel(r'$\\ell$')\n",
    "plt.ylabel(r'$[\\ell(\\ell+1)/2\\pi]  C_\\ell^\\mathrm{EE}$')\n",
    "plt.plot(ll,clEE*ll*(ll+1)/(2.*np.pi),'r-')\n",
    "plt.savefig('warmup_clee.pdf')"
   ]
  },
  {
   "cell_type": "code",
   "execution_count": null,
   "metadata": {},
   "outputs": [],
   "source": [
    "# get P(k) at redhsift z=0\n",
    "import numpy as np\n",
    "kk = np.geomspace(1e-4,3.0,num=1000) # k in h/Mpc\n",
    "h = LambdaCDM.h() # get reduced Hubble for conversions to h/Mpc\n",
    "# Note that kk*h is the array of k in 1/Mpc\n",
    "Pk = LambdaCDM.get_pk_all(kk*h,0.)*h**3 # get power spectrum, converted into (Mpc/h)^3 units, instead of the default Mpc^3 units\n",
    "# By default, this is the non-linear matter power spectrum; to get the linear one,\n",
    "# pass the optional argument 'nonlinear=False' to .get_pk_all()"
   ]
  },
  {
   "cell_type": "code",
   "execution_count": null,
   "metadata": {},
   "outputs": [],
   "source": [
    "# plot P(k)\n",
    "plt.figure(2)\n",
    "plt.xscale('log');plt.yscale('log');plt.xlim(kk[0],kk[-1])\n",
    "plt.xlabel(r'$k \\,\\,\\,\\, [h/\\mathrm{Mpc}]$')\n",
    "plt.ylabel(r'$P(k) \\,\\,\\,\\, [\\mathrm{Mpc}/h]^3$')\n",
    "plt.plot(kk,Pk,'b-')\n",
    "plt.savefig('warmup_pk.pdf')"
   ]
  }
 ],
 "metadata": {
  "kernelspec": {
   "display_name": "Python 3 (ipykernel)",
   "language": "python",
   "name": "python3"
  },
  "language_info": {
   "codemirror_mode": {
    "name": "ipython",
    "version": 3
   },
   "file_extension": ".py",
   "mimetype": "text/x-python",
   "name": "python",
   "nbconvert_exporter": "python",
   "pygments_lexer": "ipython3",
   "version": "3.11.7"
  }
 },
 "nbformat": 4,
 "nbformat_minor": 4
}
