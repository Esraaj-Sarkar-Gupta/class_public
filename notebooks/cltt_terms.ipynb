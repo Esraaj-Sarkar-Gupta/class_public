{
 "cells": [
  {
   "cell_type": "code",
   "execution_count": null,
   "metadata": {},
   "outputs": [],
   "source": [
    "# The goal of this script is to plot the total CMB temperature spectrum C_l^TT,\n",
    "# as well as its decomposition in different contributions:\n",
    "# - T + SW: intrinsic temperature plus Sachs-Wolfe correction\n",
    "# - early-ISW: early integrated Sachs-Wolfe\n",
    "# - late-ISW: late integrated Sachs-Wolfe\n",
    "# - Doppler contribution\n",
    "# - total unlensed spectrum\n",
    "# - total lensed spectrum"
   ]
  },
  {
   "cell_type": "code",
   "execution_count": null,
   "metadata": {},
   "outputs": [],
   "source": [
    "# import necessary modules\n",
    "from classy import Class\n",
    "from math import pi\n",
    "%matplotlib inline\n",
    "import matplotlib\n",
    "import matplotlib.pyplot as plt"
   ]
  },
  {
   "cell_type": "code",
   "execution_count": null,
   "metadata": {},
   "outputs": [],
   "source": [
    "####################################################\n",
    "#\n",
    "# Cosmological parameters and other CLASS parameters\n",
    "#\n",
    "####################################################\n",
    "common_settings = {# LambdaCDM parameters (Planck 18 + lensing + BAO bestfit)\n",
    "                   'omega_b':2.255065e-02,\n",
    "                   'omega_cdm':1.193524e-01,\n",
    "                   'H0':6.776953e+01,\n",
    "                   'A_s':2.123257e-09,\n",
    "                   'n_s':9.686025e-01,\n",
    "                   'z_reio':8.227371e+00,\n",
    "                   # output and precision parameters\n",
    "                   'output':'tCl,pCl,lCl',\n",
    "                   'lensing':'yes',\n",
    "                   'l_max_scalars':5000}\n",
    "###############\n",
    "#\n",
    "# Initiate a CLASS instance\n",
    "#\n",
    "M = Class()\n",
    "#\n",
    "###############\n",
    "#    \n",
    "# call CLASS for the total Cl's and then for each contribution\n",
    "#\n",
    "###############\n",
    "#\n",
    "# total contribution\n",
    "M.set(common_settings)\n",
    "cl_tot = M.raw_cl(3000)   # raw_cl gives the unlensed spectrum\n",
    "cl_lensed = M.lensed_cl(3000) # lensed_cl gives the lensed spectrum\n",
    "#\n",
    "# T+ISW contribution (unlensed)\n",
    "M.empty() # reset input\n",
    "M.set(common_settings) # new input\n",
    "M.set({'temperature contributions':'tsw'}) \n",
    "cl_tsw = M.raw_cl(3000) \n",
    "#\n",
    "# early-ISW contribution (unlensed)\n",
    "M.empty()\n",
    "M.set(common_settings)\n",
    "M.set({'temperature contributions':'eisw'})\n",
    "cl_eisw = M.raw_cl(3000) \n",
    "#\n",
    "# late-ISW contribution (unlensed)\n",
    "M.empty()\n",
    "M.set(common_settings)\n",
    "M.set({'temperature contributions':'lisw'})\n",
    "cl_lisw = M.raw_cl(3000) \n",
    "#\n",
    "# Doppler contribution (unlensed)\n",
    "M.empty()\n",
    "M.set(common_settings)\n",
    "M.set({'temperature contributions':'dop'})\n",
    "cl_dop = M.raw_cl(3000) "
   ]
  },
  {
   "cell_type": "code",
   "execution_count": null,
   "metadata": {},
   "outputs": [],
   "source": [
    "#################\n",
    "#\n",
    "# start plotting\n",
    "#\n",
    "#################\n",
    "#\n",
    "plt.xlim([2,3000])\n",
    "plt.xlabel(r\"$\\ell$\")\n",
    "plt.ylabel(r\"$\\ell (\\ell+1) C_l^{TT} / 2 \\pi \\,\\,\\, [\\times 10^{10}]$\")\n",
    "plt.grid()\n",
    "#\n",
    "ell = cl_tot['ell']\n",
    "factor = 1.e10*ell*(ell+1.)/2./pi\n",
    "plt.semilogx(ell,factor*cl_tsw['tt'],'c-',label=r'$\\mathrm{T+SW}$')\n",
    "plt.semilogx(ell,factor*cl_eisw['tt'],'r-',label=r'$\\mathrm{early-ISW}$')\n",
    "plt.semilogx(ell,factor*cl_lisw['tt'],'y-',label=r'$\\mathrm{late-ISW}$')\n",
    "plt.semilogx(ell,factor*cl_dop['tt'],'g-',label=r'$\\mathrm{Doppler}$')\n",
    "plt.semilogx(ell,factor*cl_tot['tt'],'r-',label=r'$\\mathrm{total}$')\n",
    "plt.semilogx(ell,factor*cl_lensed['tt'],'k-',label=r'$\\mathrm{lensed}$')\n",
    "#\n",
    "plt.legend(loc='right',bbox_to_anchor=(1.4, 0.5))\n",
    "plt.savefig('cltt_terms.pdf',bbox_inches='tight')"
   ]
  }
 ],
 "metadata": {
  "kernelspec": {
   "display_name": "Python 3 (ipykernel)",
   "language": "python",
   "name": "python3"
  },
  "language_info": {
   "codemirror_mode": {
    "name": "ipython",
    "version": 3
   },
   "file_extension": ".py",
   "mimetype": "text/x-python",
   "name": "python",
   "nbconvert_exporter": "python",
   "pygments_lexer": "ipython3",
   "version": "3.11.7"
  }
 },
 "nbformat": 4,
 "nbformat_minor": 4
}
