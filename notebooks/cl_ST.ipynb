{
 "cells": [
  {
   "cell_type": "code",
   "execution_count": null,
   "metadata": {},
   "outputs": [],
   "source": [
    "# The goal of this script is to plot the various CMB temperature spectra:\n",
    "# - temperature spectrum C_l^TT from scalars and tensors\n",
    "# - polarisation spectrum C_l^EE from scalars and tensors\n",
    "# - polarisation spectrum C_l^BB from lesned scalars and tensors"
   ]
  },
  {
   "cell_type": "code",
   "execution_count": null,
   "metadata": {},
   "outputs": [],
   "source": [
    "# import necessary modules\n",
    "from classy import Class\n",
    "from math import pi\n",
    "%matplotlib inline\n",
    "import matplotlib\n",
    "import matplotlib.pyplot as plt"
   ]
  },
  {
   "cell_type": "code",
   "execution_count": null,
   "metadata": {},
   "outputs": [],
   "source": [
    "#####################################################\n",
    "#\n",
    "# Cosmological parameters and other CLASS parameters\n",
    "#\n",
    "#####################################################\n",
    "common_settings = {# LambdaCDM parameters (Planck 18 + lensing + BAO bestfit)\n",
    "                   'omega_b':2.255065e-02,\n",
    "                   'omega_cdm':1.193524e-01,\n",
    "                   'H0':6.776953e+01,\n",
    "                   'A_s':2.123257e-09,\n",
    "                   'z_reio':8.227371e+00}\n",
    "\n",
    "# We compute scalars up to multipole l=3000\n",
    "l_max_scalars = 3000\n",
    "# Since tensors get negligible at large l, we compute them only up to l=600\n",
    "l_max_tensors = 600\n",
    "\n",
    "# Note that for l_max_tensors=600 we can keep default precision,\n",
    "# while for accurate tensor predictions up to  l_max_tensors=3000 \n",
    "# we would need to import many high precision settings from the file cl_ref.pre    "
   ]
  },
  {
   "cell_type": "code",
   "execution_count": null,
   "metadata": {},
   "outputs": [],
   "source": [
    "###############\n",
    "#    \n",
    "# call CLASS : scalars only, with a given value of the scalar tilt n_s\n",
    "#\n",
    "###############\n",
    "#\n",
    "M = Class()\n",
    "M.set(common_settings)\n",
    "M.set({'output':'tCl,pCl','modes':'s','lensing':'no','n_s':0.9660499,\n",
    "       'l_max_scalars':l_max_scalars})\n",
    "cls = M.raw_cl(l_max_scalars)  # raw_cl gives the unlensed spectrum"
   ]
  },
  {
   "cell_type": "code",
   "execution_count": null,
   "metadata": {},
   "outputs": [],
   "source": [
    "###############\n",
    "#    \n",
    "# call CLASS : tensors only, with a given value of the tensor tilt n_t\n",
    "#              and of the tensor-to-scalar ratio r\n",
    "#              (so A_t = r * A_s where A_s was passed before)\n",
    "#\n",
    "###############\n",
    "#\n",
    "M.empty() # reset input\n",
    "M.set(common_settings) # new input\n",
    "M.set({'output':'tCl,pCl','modes':'t','lensing':'no','r':0.1,'n_t':0,\n",
    "       'l_max_tensors':l_max_tensors})\n",
    "clt = M.raw_cl(l_max_tensors)  # raw_cl gives the unlensed spectrum"
   ]
  },
  {
   "cell_type": "code",
   "execution_count": null,
   "metadata": {},
   "outputs": [],
   "source": [
    "###############\n",
    "#    \n",
    "# call CLASS : scalars + tensors (only in this case we can get the correct lensed C_l^BB)\n",
    "#\n",
    "###############\n",
    "#\n",
    "M.empty() # reset input parameters to default, before passing a new parameter set\n",
    "M.set(common_settings)\n",
    "M.set({'output':'tCl,pCl,lCl','modes':'s,t','lensing':'yes','n_s':0.9660499,'r':0.1,'n_t':0,\n",
    "       'l_max_scalars':l_max_scalars,'l_max_tensors':l_max_tensors})\n",
    "cl_tot = M.raw_cl(l_max_scalars)   # raw_cl gives the unlensed spectrum\n",
    "cl_lensed = M.lensed_cl(l_max_scalars)  # lensed_cl gives the lensed spectrum"
   ]
  },
  {
   "cell_type": "code",
   "execution_count": null,
   "metadata": {},
   "outputs": [],
   "source": [
    "#################\n",
    "#\n",
    "# plotting\n",
    "#\n",
    "#################\n",
    "#\n",
    "plt.xlim([2,l_max_scalars])\n",
    "plt.ylim([1.e-8,10])\n",
    "plt.xlabel(r\"$\\ell$\")\n",
    "plt.ylabel(r\"$\\ell (\\ell+1) C_l^{XY} / 2 \\pi \\,\\,\\, [\\times 10^{10}]$\")\n",
    "plt.title(r\"$r=0.1$\")\n",
    "plt.grid()\n",
    "#\n",
    "ell = cl_tot['ell']\n",
    "ellt = clt['ell']\n",
    "factor = 1.e10*ell*(ell+1.)/2./pi\n",
    "factort = 1.e10*ellt*(ellt+1.)/2./pi\n",
    "#\n",
    "plt.loglog(ell,factor*cls['tt'],'r-',label=r'$\\mathrm{TT(s)}$')\n",
    "plt.loglog(ellt,factort*clt['tt'],'r:',label=r'$\\mathrm{TT(t)}$')\n",
    "plt.loglog(ell,factor*cls['ee'],'b-',label=r'$\\mathrm{EE(s)}$')\n",
    "plt.loglog(ellt,factort*clt['ee'],'b:',label=r'$\\mathrm{EE(t)}$')\n",
    "plt.loglog(ellt,factort*clt['bb'],'g:',label=r'$\\mathrm{BB(t)}$')\n",
    "plt.loglog(ell,factor*(cl_lensed['bb']-cl_tot['bb']),'g-',label=r'$\\mathrm{BB(lensing)}$')\n",
    "plt.legend(loc='right',bbox_to_anchor=(1.4, 0.5))\n",
    "plt.savefig('cl_ST.pdf',bbox_inches='tight')"
   ]
  },
  {
   "cell_type": "code",
   "execution_count": null,
   "metadata": {},
   "outputs": [],
   "source": []
  }
 ],
 "metadata": {
  "kernelspec": {
   "display_name": "Python 3 (ipykernel)",
   "language": "python",
   "name": "python3"
  },
  "language_info": {
   "codemirror_mode": {
    "name": "ipython",
    "version": 3
   },
   "file_extension": ".py",
   "mimetype": "text/x-python",
   "name": "python",
   "nbconvert_exporter": "python",
   "pygments_lexer": "ipython3",
   "version": "3.11.7"
  }
 },
 "nbformat": 4,
 "nbformat_minor": 4
}
