{
 "cells": [
  {
   "cell_type": "code",
   "execution_count": null,
   "metadata": {},
   "outputs": [],
   "source": [
    "# The goal of this script is to plot the non-linear matter power spectrum computed with HMcode 2020.\n",
    "# We also show for comparison the linear spectrum, as well as the no-wiggle power spectrum computed in two ways."
   ]
  },
  {
   "cell_type": "code",
   "execution_count": null,
   "metadata": {},
   "outputs": [],
   "source": [
    "# import classy module\n",
    "from classy import Class\n",
    "# uncomment to get plots displayed in notebook\n",
    "%matplotlib inline\n",
    "import matplotlib.pyplot as plt\n",
    "import numpy as np"
   ]
  },
  {
   "cell_type": "code",
   "execution_count": null,
   "metadata": {},
   "outputs": [],
   "source": [
    "# create an instance of Class\n",
    "LambdaCDM = Class()\n",
    "# pass input parameters\n",
    "LambdaCDM.set_baseline('p18') # Start from Planck 2018 baseline\n",
    "LambdaCDM.set({'output':'tCl,pCl,lCl,mPk','analytic_nowiggle':'yes','numerical_nowiggle':'yes','lensing':'yes'})\n",
    "LambdaCDM.set({'P_k_max_h/Mpc':5.0,'z_max_pk':1.1})\n",
    "LambdaCDM.set({'non_linear':'HMcode','hmcode_version':'2020'})"
   ]
  },
  {
   "cell_type": "code",
   "execution_count": null,
   "metadata": {},
   "outputs": [],
   "source": [
    "# create an array of k values in h/Mpc \n",
    "kk = np.geomspace(1e-4,3,num=1000)\n",
    "# execute CLASS such that we can extract the Hubble rate from the class instance\n",
    "LambdaCDM.compute()\n",
    "# get reduced Hubble for conversions to 1/Mpc\n",
    "h = LambdaCDM.h()"
   ]
  },
  {
   "cell_type": "code",
   "execution_count": null,
   "metadata": {},
   "outputs": [],
   "source": [
    "# get P(k) at redhsift z\n",
    "z=0.\n",
    "# get linear P(k,z) in Mpc^3 and convert it to (Mpc/h)^3\n",
    "Pk_lin = LambdaCDM.get_pk_all(kk*h,z,nonlinear=False)*h**3\n",
    "# get non-linear P(k,z) in Mpc^3 and convert it to (Mpc/h)^3\n",
    "Pk = LambdaCDM.get_pk_all(kk*h,z,nonlinear=True)*h**3\n",
    "# get the linear no-wiggle spectrum from a numerical method (smoothing of the full spectrum)\n",
    "Pk_nw = np.array([LambdaCDM.pk_numerical_nw(k*h,z)*h**3 for k in kk]) # note: this function will soon be upated to the get_pk_all framework\n",
    "# get the linear no-wiggle spectrum from an analytic approximation (Eisenstein & Hu)\n",
    "Pk_an_nw = np.array([LambdaCDM.pk_analytic_nw(k*h)*h**3 for k in kk]) # note: this function will soon be upated to the get_pk_all framework"
   ]
  },
  {
   "cell_type": "code",
   "execution_count": null,
   "metadata": {},
   "outputs": [],
   "source": [
    "# plot P(k)\n",
    "#plt.figure(1)\n",
    "plt.xscale('log');plt.yscale('log')\n",
    "#plt.xlim(kk[0],kk[-1])\n",
    "plt.xlim(1.e-3,0.5)\n",
    "plt.ylim(200,3e4)\n",
    "plt.xlabel(r'$k \\,\\,\\,\\, [h/\\mathrm{Mpc}]$')\n",
    "plt.ylabel(r'$P(k) \\,\\,\\,\\, [\\mathrm{Mpc}/h]^3$')\n",
    "plt.plot(kk,Pk_nw,'k-',label='linear, no-wiggle (smoothing)')\n",
    "plt.plot(kk,Pk_an_nw,'r-',label='linear, no-wiggle (EH)')\n",
    "plt.plot(kk,Pk_lin,'g-',label='linear')\n",
    "plt.plot(kk,Pk,'b-',label='non-linear')\n",
    "plt.legend()\n",
    "plt.savefig('test_hmcode.pdf',bbox_inches='tight')"
   ]
  }
 ],
 "metadata": {
  "kernelspec": {
   "display_name": "Python 3 (ipykernel)",
   "language": "python",
   "name": "python3"
  },
  "language_info": {
   "codemirror_mode": {
    "name": "ipython",
    "version": 3
   },
   "file_extension": ".py",
   "mimetype": "text/x-python",
   "name": "python",
   "nbconvert_exporter": "python",
   "pygments_lexer": "ipython3",
   "version": "3.11.7"
  }
 },
 "nbformat": 4,
 "nbformat_minor": 4
}
