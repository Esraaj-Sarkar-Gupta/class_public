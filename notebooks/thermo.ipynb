{
 "cells": [
  {
   "cell_type": "code",
   "execution_count": null,
   "metadata": {},
   "outputs": [],
   "source": [
    "# The goal of this script is to plot the evolution of the free electron fraction as a function of\n",
    "# conformal time, to show how to extract thermodynamical quantities from a CLASS run"
   ]
  },
  {
   "cell_type": "code",
   "execution_count": null,
   "metadata": {},
   "outputs": [],
   "source": [
    "# import necessary modules\n",
    "# uncomment to get plots displayed in notebook#%matplotlib inline\n",
    "import matplotlib.pyplot as plt\n",
    "import numpy as np\n",
    "from classy import Class"
   ]
  },
  {
   "cell_type": "code",
   "execution_count": null,
   "metadata": {},
   "outputs": [],
   "source": [
    "# Create a CLASS instance\n",
    "M = Class()\n",
    "\n",
    "# We could customize our input parameters but here we choose to stick to the default LambdaCDM parameters\n",
    "# No need to pass the 'output' field since we only need CLASS to compute the background and thermodynamics evolution \n",
    "\n",
    "# get derived parameters computed by CLASS for this cosmology: here we get\n",
    "# the conformal time at recombination (tau_rec), today (conformal_age), and at reionization (conf_time_reio) \n",
    "derived = M.get_current_derived_parameters(['tau_rec','conformal_age','conf_time_reio'])\n",
    "\n",
    "# extract all thermodynamics quantities at each redshift, sorted by growing redhsift, and print the list of available keys\n",
    "thermo = M.get_thermodynamics()\n",
    "print (thermo.keys())\n",
    "\n",
    "# within the thermo dictionary, extract the array of conformal time tau\n",
    "tau = thermo['conf. time [Mpc]']\n",
    "# within the thermo dictionary, extract the array of visibility function g\n",
    "g = thermo['g [Mpc^-1]']\n",
    "# to make the reionisation peak visible, rescale g by 100 only for late times \n",
    "# (here we do it for the first 500 values of redshift, corresponding to the 500 largest values of tau)\n",
    "g[:500] *= 100"
   ]
  },
  {
   "cell_type": "code",
   "execution_count": null,
   "metadata": {},
   "outputs": [],
   "source": [
    "# plot g(tau)    \n",
    "plt.xlim([1.e2,derived['conformal_age']])\n",
    "plt.xlabel(r'$\\tau \\,\\,\\, \\mathrm{[Mpc]}$')\n",
    "plt.ylabel(r'$\\mathrm{visibility} \\,\\,\\, g \\,\\,\\, [\\mathrm{Mpc}^{-1}]$')\n",
    "plt.axvline(x=derived['tau_rec'],color='k')\n",
    "plt.axvline(x=derived['conf_time_reio'],color='k')\n",
    "#\n",
    "plt.semilogx(tau,g,'r',label=r'$\\psi$')\n",
    "plt.savefig('thermo.pdf',bbox_inches='tight')"
   ]
  }
 ],
 "metadata": {
  "kernelspec": {
   "display_name": "Python 3 (ipykernel)",
   "language": "python",
   "name": "python3"
  },
  "language_info": {
   "codemirror_mode": {
    "name": "ipython",
    "version": 3
   },
   "file_extension": ".py",
   "mimetype": "text/x-python",
   "name": "python",
   "nbconvert_exporter": "python",
   "pygments_lexer": "ipython3",
   "version": "3.11.7"
  }
 },
 "nbformat": 4,
 "nbformat_minor": 4
}
